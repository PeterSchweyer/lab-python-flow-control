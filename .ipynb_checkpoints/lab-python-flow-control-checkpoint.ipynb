{
 "cells": [
  {
   "cell_type": "markdown",
   "id": "d3bfc191-8885-42ee-b0a0-bbab867c6f9f",
   "metadata": {
    "tags": []
   },
   "source": [
    "# Lab | Flow Control"
   ]
  },
  {
   "cell_type": "markdown",
   "id": "3851fcd1-cf98-4653-9c89-e003b7ec9400",
   "metadata": {},
   "source": [
    "## Exercise: Managing Customer Orders Optimized\n",
    "\n",
    "In the last lab, you were starting an online store that sells various products. To ensure smooth operations, you developed a program that manages customer orders and inventory.\n",
    "\n",
    "You did so without using flow control. Let's go a step further and improve this code.\n",
    "\n",
    "Follow the steps below to complete the exercise:\n",
    "\n",
    "1. Look at your code from the lab data structures, and improve repeated code with loops.\n",
    "\n",
    "2. Instead of asking the user to input the name of three products that a customer wants to order, do the following:\n",
    "    \n",
    "    a. Prompt the user to enter the name of a product that a customer wants to order.\n",
    "    \n",
    "    b. Add the product name to the \"customer_orders\" set.\n",
    "    \n",
    "    c. Ask the user if they want to add another product (yes/no).\n",
    "    \n",
    "    d. Continue the loop until the user does not want to add another product.\n",
    "\n",
    "3. Instead of updating the inventory by subtracting 1 from the quantity of each product, only do it for  the products that were ordered (those in \"customer_orders\")."
   ]
  },
  {
   "cell_type": "code",
   "execution_count": 1,
   "id": "1587ef29",
   "metadata": {},
   "outputs": [
    {
     "name": "stdout",
     "output_type": "stream",
     "text": [
      "Enter the amount of the product t-shirt available here: 3\n",
      "Enter the amount of the product mug available here: 3\n",
      "Enter the amount of the product hat available here: 3\n",
      "Enter the amount of the product book available here: 3\n",
      "Enter the amount of the product keychain available here: 3\n",
      "Current inventory: {'t-shirt': 3, 'mug': 3, 'hat': 3, 'book': 3, 'keychain': 3}\n",
      " \n",
      "Please enter the name of a product you want to order: hat\n",
      "Dou you want to order another product? Enter 'yes' or 'no': no\n",
      " \n",
      "You ordered {'hat'}\n",
      " \n",
      "Order statistics:\n",
      "Total products ordered: 1\n",
      "Percentage of total products ordered: 6.666666666666667% \n",
      " \n",
      "Updated inventory: \n",
      " \n",
      "t-shirt: 3\n",
      "mug: 3\n",
      "hat: 2\n",
      "book: 3\n",
      "keychain: 3\n"
     ]
    }
   ],
   "source": [
    "products = [\"t-shirt\", \"mug\", \"hat\", \"book\", \"keychain\"]\n",
    "\n",
    "inventory = {\n",
    "}\n",
    "for i in products:\n",
    "    inventory[i]= int(input(f\"Enter the amount of the product {i} available here: \"))\n",
    "print(f\"Current inventory: {inventory}\")\n",
    "\n",
    "print(\" \")\n",
    "\n",
    "total_products = 0\n",
    "\n",
    "for n in inventory.values():\n",
    "    total_products += n\n",
    "\n",
    "    \n",
    "custom_orders = set()\n",
    "counter = 0\n",
    "wants_to_continue = True\n",
    "another_order = ''\n",
    "\n",
    "while wants_to_continue == True:\n",
    "    order = input(\"Please enter the name of a product you want to order: \").strip()\n",
    "    if order in products and inventory[order]>0:\n",
    "        custom_orders.add(order)\n",
    "        counter += 1\n",
    "        inventory[order] = inventory[order] - 1\n",
    "        while another_order != 'yes' and another_order != 'no':\n",
    "            another_order = input(\"Dou you want to order another product? Enter 'yes' or 'no': \").strip()\n",
    "            if another_order == 'yes':\n",
    "                wants_to_continue = True\n",
    "            elif another_order == 'no':\n",
    "                wants_to_continue = False\n",
    "            else:\n",
    "                print(\"Please enter 'yes' or 'no'\")\n",
    "        another_order=''\n",
    "    elif order in products and inventory[order]<=0:\n",
    "        print(\"Product out of stock! Try another product\")\n",
    "    else:\n",
    "        print(\"Please make sure you entered your order correctly!\")\n",
    "            \n",
    "              \n",
    "percentage = counter/total_products*100 \n",
    "order_status = (percentage,counter)\n",
    "\n",
    "print(\" \")\n",
    "print(f\"You ordered {custom_orders}\")\n",
    "print(\" \")\n",
    "print(\"Order statistics:\")\n",
    "print(f\"Total products ordered: {counter}\")\n",
    "print(f\"Percentage of total products ordered: {percentage}% \")\n",
    "print(\" \")\n",
    "print(\"Updated inventory: \")\n",
    "print(\" \")\n",
    "for key, value in inventory.items():\n",
    "    print(f\"{key}: {value}\")\n",
    "    "
   ]
  },
  {
   "cell_type": "code",
   "execution_count": null,
   "id": "e1cdc1e6",
   "metadata": {},
   "outputs": [],
   "source": []
  }
 ],
 "metadata": {
  "kernelspec": {
   "display_name": "Python 3 (ipykernel)",
   "language": "python",
   "name": "python3"
  },
  "language_info": {
   "codemirror_mode": {
    "name": "ipython",
    "version": 3
   },
   "file_extension": ".py",
   "mimetype": "text/x-python",
   "name": "python",
   "nbconvert_exporter": "python",
   "pygments_lexer": "ipython3",
   "version": "3.11.4"
  }
 },
 "nbformat": 4,
 "nbformat_minor": 5
}
